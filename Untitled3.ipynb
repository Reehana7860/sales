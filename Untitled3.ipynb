{
  "nbformat": 4,
  "nbformat_minor": 0,
  "metadata": {
    "colab": {
      "name": "Untitled3.ipynb",
      "provenance": [],
      "collapsed_sections": [],
      "authorship_tag": "ABX9TyO/XCvaJ3UIatLjk5+LFhG9",
      "include_colab_link": true
    },
    "kernelspec": {
      "name": "python3",
      "display_name": "Python 3"
    },
    "language_info": {
      "name": "python"
    }
  },
  "cells": [
    {
      "cell_type": "markdown",
      "metadata": {
        "id": "view-in-github",
        "colab_type": "text"
      },
      "source": [
        "<a href=\"https://colab.research.google.com/github/Reehana7860/sales/blob/main/Untitled3.ipynb\" target=\"_parent\"><img src=\"https://colab.research.google.com/assets/colab-badge.svg\" alt=\"Open In Colab\"/></a>"
      ]
    },
    {
      "cell_type": "code",
      "metadata": {
        "id": "jkSyF7X--LSS"
      },
      "source": [
        "import pandas as pd\n",
        "import numpy as np\n",
        "import matplotlib.pyplot as plt\n",
        "from sklearn.preprocessing import MinMaxScaler\n",
        "from tensorflow.keras.models import Sequential\n",
        "from tensorflow.keras.layers import Dense\n",
        "from tensorflow.keras.layers import LSTM\n",
        "import tensorflow as tf\n",
        "import math\n",
        "from sklearn.metrics import mean_squared_error\n",
        "from numpy import array"
      ],
      "execution_count": null,
      "outputs": []
    },
    {
      "cell_type": "code",
      "metadata": {
        "id": "l0aQDK8y_guK"
      },
      "source": [
        "df = pd.read_csv('/content/stock price.csv')"
      ],
      "execution_count": null,
      "outputs": []
    },
    {
      "cell_type": "code",
      "metadata": {
        "colab": {
          "base_uri": "https://localhost:8080/"
        },
        "id": "7JbAut8S_pmY",
        "outputId": "389e06a2-75c4-42c7-923b-2f7d6ca95556"
      },
      "source": [
        "df.head(), df.tail()"
      ],
      "execution_count": null,
      "outputs": [
        {
          "output_type": "execute_result",
          "data": {
            "text/plain": [
              "(         Date      Open      High       Low     Close  Adj Close     Volume\n",
              " 0  27-06-2001  0.425536  0.428571  0.401786  0.416786   0.358395  374130400\n",
              " 1  28-06-2001  0.411607  0.426964  0.409643  0.420357   0.361466  348409600\n",
              " 2  29-06-2001  0.422500  0.448214  0.414286  0.415179   0.357014  515390400\n",
              " 3  02-07-2001  0.422143  0.432679  0.413214  0.426786   0.366994  230048000\n",
              " 4  03-07-2001  0.419821  0.431786  0.419643  0.425714   0.366073  112543200,\n",
              "             Date       Open       High  ...      Close  Adj Close     Volume\n",
              " 4775  22-06-2020  87.834999  89.864998  ...  89.717499  89.117027  135445200\n",
              " 4776  23-06-2020  91.000000  93.095001  ...  91.632500  91.019203  212155600\n",
              " 4777  24-06-2020  91.250000  92.197502  ...  90.014999  89.412537  192623200\n",
              " 4778  25-06-2020  90.175003  91.250000  ...  91.209999  90.599533  137522400\n",
              " 4779  26-06-2020  91.102501  91.330002  ...  88.407501  87.815788  205256800\n",
              " \n",
              " [5 rows x 7 columns])"
            ]
          },
          "metadata": {
            "tags": []
          },
          "execution_count": 3
        }
      ]
    },
    {
      "cell_type": "code",
      "metadata": {
        "id": "zc-OlNN2ApjA"
      },
      "source": [
        "df1=df.reset_index()['Close']"
      ],
      "execution_count": null,
      "outputs": []
    },
    {
      "cell_type": "code",
      "metadata": {
        "colab": {
          "base_uri": "https://localhost:8080/"
        },
        "id": "f-ld-jYJDJ5F",
        "outputId": "4c7c645c-27e1-47de-b9ff-7def582c19fb"
      },
      "source": [
        "print(df1)"
      ],
      "execution_count": null,
      "outputs": [
        {
          "output_type": "stream",
          "text": [
            "0        0.416786\n",
            "1        0.420357\n",
            "2        0.415179\n",
            "3        0.426786\n",
            "4        0.425714\n",
            "          ...    \n",
            "4775    89.717499\n",
            "4776    91.632500\n",
            "4777    90.014999\n",
            "4778    91.209999\n",
            "4779    88.407501\n",
            "Name: Close, Length: 4780, dtype: float64\n"
          ],
          "name": "stdout"
        }
      ]
    },
    {
      "cell_type": "code",
      "metadata": {
        "colab": {
          "base_uri": "https://localhost:8080/",
          "height": 283
        },
        "id": "xylKI082Gsd4",
        "outputId": "1db5d290-2849-4872-9bb6-9db7c76a0cad"
      },
      "source": [
        "plt.plot(df1)"
      ],
      "execution_count": null,
      "outputs": [
        {
          "output_type": "execute_result",
          "data": {
            "text/plain": [
              "[<matplotlib.lines.Line2D at 0x7feba6408f10>]"
            ]
          },
          "metadata": {
            "tags": []
          },
          "execution_count": 6
        },
        {
          "output_type": "display_data",
          "data": {
            "image/png": "[encoded data removed]",
            "text/plain": [
              "<Figure size 432x288 with 1 Axes>"
            ]
          },
          "metadata": {
            "tags": [],
            "needs_background": "light"
          }
        }
      ]
    },
    {
      "cell_type": "code",
      "metadata": {
        "colab": {
          "base_uri": "https://localhost:8080/"
        },
        "id": "G9QDIvn3G0Uj",
        "outputId": "15adaa27-cd2f-441b-8353-6c6e7267ab13"
      },
      "source": [
        "scaler=MinMaxScaler(feature_range=(0,1))\n",
        "df1=scaler.fit_transform(np.array(df1).reshape(-1,1))\n",
        "print(df1)"
      ],
      "execution_count": null,
      "outputs": [
        {
          "output_type": "stream",
          "text": [
            "[[0.00199676]\n",
            " [0.00203583]\n",
            " [0.00197917]\n",
            " ...\n",
            " [0.98230271]\n",
            " [0.99537736]\n",
            " [0.96471486]]\n"
          ],
          "name": "stdout"
        }
      ]
    },
    {
      "cell_type": "code",
      "metadata": {
        "colab": {
          "base_uri": "https://localhost:8080/"
        },
        "id": "BlAE__3SFN0f",
        "outputId": "0fbf9b53-b7e4-420c-9f33-730392951e70"
      },
      "source": [
        "len(df1)"
      ],
      "execution_count": null,
      "outputs": [
        {
          "output_type": "execute_result",
          "data": {
            "text/plain": [
              "4780"
            ]
          },
          "metadata": {
            "tags": []
          },
          "execution_count": 9
        }
      ]
    },
    {
      "cell_type": "code",
      "metadata": {
        "colab": {
          "base_uri": "https://localhost:8080/"
        },
        "id": "b-a5QOPiHBar",
        "outputId": "e3c17f3a-e0a2-42b6-ad28-9d6131e39160"
      },
      "source": [
        "training_size=int(len(df1)*0.70)\n",
        "test_size=len(df1)-training_size\n",
        "train_data,test_data=df1[0:training_size,:],df1[training_size:len(df1),:1]\n",
        "training_size,test_size"
      ],
      "execution_count": null,
      "outputs": [
        {
          "output_type": "execute_result",
          "data": {
            "text/plain": [
              "(3346, 1434)"
            ]
          },
          "metadata": {
            "tags": []
          },
          "execution_count": 8
        }
      ]
    },
    {
      "cell_type": "code",
      "metadata": {
        "colab": {
          "base_uri": "https://localhost:8080/"
        },
        "id": "iE8_z8W1HNo9",
        "outputId": "9bad53d0-c6db-439c-ef12-491f52f53b83"
      },
      "source": [
        "train_data"
      ],
      "execution_count": null,
      "outputs": [
        {
          "output_type": "execute_result",
          "data": {
            "text/plain": [
              "array([[0.0055459 ],\n",
              "       [0.0063738 ],\n",
              "       [0.00615356],\n",
              "       ...,\n",
              "       [0.23131972],\n",
              "       [0.23367873],\n",
              "       [0.23549905]])"
            ]
          },
          "metadata": {
            "tags": []
          },
          "execution_count": 20
        }
      ]
    },
    {
      "cell_type": "code",
      "metadata": {
        "id": "UWrj54dQHV_D"
      },
      "source": [
        "def create_dataset(dataset, time_step=1):\n",
        "\tdataX, dataY = [], []\n",
        "\tfor i in range(len(dataset)-time_step-1):\n",
        "\t\ta = dataset[i:(i+time_step), 0]  \n",
        "\t\tdataX.append(a)\n",
        "\t\tdataY.append(dataset[i + time_step, 0])\n",
        "\treturn np.array(dataX), np.array(dataY)"
      ],
      "execution_count": null,
      "outputs": []
    },
    {
      "cell_type": "code",
      "metadata": {
        "id": "GyG-5r5CHeco"
      },
      "source": [
        "time_step = 100\n",
        "X_train, y_train = create_dataset(train_data, time_step)\n",
        "X_test, ytest = create_dataset(test_data, time_step)"
      ],
      "execution_count": null,
      "outputs": []
    },
    {
      "cell_type": "code",
      "metadata": {
        "colab": {
          "base_uri": "https://localhost:8080/"
        },
        "id": "HZ2hpA8JHpsm",
        "outputId": "990b6e98-31da-4560-b371-c8f74a81903e"
      },
      "source": [
        "print(X_train.shape), print(y_train.shape)"
      ],
      "execution_count": null,
      "outputs": [
        {
          "output_type": "stream",
          "text": [
            "(3245, 100)\n",
            "(3245,)\n"
          ],
          "name": "stdout"
        },
        {
          "output_type": "execute_result",
          "data": {
            "text/plain": [
              "(None, None)"
            ]
          },
          "metadata": {
            "tags": []
          },
          "execution_count": 12
        }
      ]
    },
    {
      "cell_type": "code",
      "metadata": {
        "colab": {
          "base_uri": "https://localhost:8080/"
        },
        "id": "xmviA7eVHsvx",
        "outputId": "1c9b3f18-af20-41a9-b8b0-344d9a659878"
      },
      "source": [
        "print(X_test.shape), print(ytest.shape)"
      ],
      "execution_count": null,
      "outputs": [
        {
          "output_type": "stream",
          "text": [
            "(1333, 100)\n",
            "(1333,)\n"
          ],
          "name": "stdout"
        },
        {
          "output_type": "execute_result",
          "data": {
            "text/plain": [
              "(None, None)"
            ]
          },
          "metadata": {
            "tags": []
          },
          "execution_count": 13
        }
      ]
    },
    {
      "cell_type": "code",
      "metadata": {
        "id": "XtxXCRKRH2Rt"
      },
      "source": [
        "X_train =X_train.reshape(X_train.shape[0],X_train.shape[1] , 1)\n",
        "X_test = X_test.reshape(X_test.shape[0],X_test.shape[1] , 1)"
      ],
      "execution_count": null,
      "outputs": []
    },
    {
      "cell_type": "code",
      "metadata": {
        "id": "D120Vf8zIPgC"
      },
      "source": [
        "model=Sequential()\n",
        "model.add(LSTM(50,return_sequences=True,input_shape=(100,1)))\n",
        "model.add(LSTM(50,return_sequences=True))\n",
        "model.add(LSTM(50))\n",
        "model.add(Dense(1))\n",
        "model.compile(loss='mean_squared_error',optimizer='adam')"
      ],
      "execution_count": null,
      "outputs": []
    },
    {
      "cell_type": "code",
      "metadata": {
        "colab": {
          "base_uri": "https://localhost:8080/"
        },
        "id": "JxnkSPhMIXdb",
        "outputId": "acc47cb7-61fc-4709-96c1-08aaa47b464f"
      },
      "source": [
        "model.summary()"
      ],
      "execution_count": null,
      "outputs": [
        {
          "output_type": "stream",
          "text": [
            "Model: \"sequential\"\n",
            "_________________________________________________________________\n",
            "Layer (type)                 Output Shape              Param #   \n",
            "=================================================================\n",
            "lstm (LSTM)                  (None, 100, 50)           10400     \n",
            "_________________________________________________________________\n",
            "lstm_1 (LSTM)                (None, 100, 50)           20200     \n",
            "_________________________________________________________________\n",
            "lstm_2 (LSTM)                (None, 50)                20200     \n",
            "_________________________________________________________________\n",
            "dense (Dense)                (None, 1)                 51        \n",
            "=================================================================\n",
            "Total params: 50,851\n",
            "Trainable params: 50,851\n",
            "Non-trainable params: 0\n",
            "_________________________________________________________________\n"
          ],
          "name": "stdout"
        }
      ]
    },
    {
      "cell_type": "code",
      "metadata": {
        "colab": {
          "base_uri": "https://localhost:8080/"
        },
        "id": "_emFYCR9IdcX",
        "outputId": "145c818e-2444-4ff7-f6a6-aa80fd1982e6"
      },
      "source": [
        "model.fit(X_train,y_train,validation_data=(X_test,ytest),epochs=10,batch_size=64,verbose=1)"
      ],
      "execution_count": null,
      "outputs": [
        {
          "output_type": "stream",
          "text": [
            "Epoch 1/10\n",
            "51/51 [==============================] - 18s 234ms/step - loss: 0.0014 - val_loss: 0.0019\n",
            "Epoch 2/10\n",
            "51/51 [==============================] - 10s 203ms/step - loss: 3.6076e-05 - val_loss: 0.0012\n",
            "Epoch 3/10\n",
            "51/51 [==============================] - 10s 203ms/step - loss: 3.6969e-05 - val_loss: 0.0014\n",
            "Epoch 4/10\n",
            "51/51 [==============================] - 11s 209ms/step - loss: 3.3809e-05 - val_loss: 0.0019\n",
            "Epoch 5/10\n",
            "51/51 [==============================] - 10s 205ms/step - loss: 3.2601e-05 - val_loss: 0.0022\n",
            "Epoch 6/10\n",
            "51/51 [==============================] - 10s 204ms/step - loss: 3.2052e-05 - val_loss: 0.0016\n",
            "Epoch 7/10\n",
            "51/51 [==============================] - 10s 204ms/step - loss: 3.0789e-05 - val_loss: 0.0020\n",
            "Epoch 8/10\n",
            "51/51 [==============================] - 10s 204ms/step - loss: 3.0461e-05 - val_loss: 0.0019\n",
            "Epoch 9/10\n",
            "51/51 [==============================] - 10s 200ms/step - loss: 2.8352e-05 - val_loss: 0.0025\n",
            "Epoch 10/10\n",
            "51/51 [==============================] - 10s 201ms/step - loss: 2.9450e-05 - val_loss: 0.0011\n"
          ],
          "name": "stdout"
        },
        {
          "output_type": "execute_result",
          "data": {
            "text/plain": [
              "<tensorflow.python.keras.callbacks.History at 0x7feba23ccb50>"
            ]
          },
          "metadata": {
            "tags": []
          },
          "execution_count": 17
        }
      ]
    },
    {
      "cell_type": "code",
      "metadata": {
        "id": "8KOwwbmXKVOe"
      },
      "source": [
        "train_predict=model.predict(X_train)\n",
        "test_predict=model.predict(X_test)"
      ],
      "execution_count": null,
      "outputs": []
    },
    {
      "cell_type": "code",
      "metadata": {
        "id": "9SSKLnJvKZ2Y"
      },
      "source": [
        "train_predict=scaler.inverse_transform(train_predict)\n",
        "test_predict=scaler.inverse_transform(test_predict)"
      ],
      "execution_count": null,
      "outputs": []
    },
    {
      "cell_type": "code",
      "metadata": {
        "colab": {
          "base_uri": "https://localhost:8080/"
        },
        "id": "hCBRaedWKZyf",
        "outputId": "21c53c5c-d7f0-46b2-a618-508a03adfb4b"
      },
      "source": [
        "math.sqrt(mean_squared_error(y_train,train_predict))"
      ],
      "execution_count": null,
      "outputs": [
        {
          "output_type": "execute_result",
          "data": {
            "text/plain": [
              "10.69104973773019"
            ]
          },
          "metadata": {
            "tags": []
          },
          "execution_count": 20
        }
      ]
    },
    {
      "cell_type": "code",
      "metadata": {
        "colab": {
          "base_uri": "https://localhost:8080/"
        },
        "id": "l23YiP5DKZu2",
        "outputId": "203ace8d-e88f-4010-b6c2-593c9054f903"
      },
      "source": [
        "math.sqrt(mean_squared_error(ytest,test_predict))"
      ],
      "execution_count": null,
      "outputs": [
        {
          "output_type": "execute_result",
          "data": {
            "text/plain": [
              "42.47761606809375"
            ]
          },
          "metadata": {
            "tags": []
          },
          "execution_count": 21
        }
      ]
    },
    {
      "cell_type": "code",
      "metadata": {
        "colab": {
          "base_uri": "https://localhost:8080/",
          "height": 265
        },
        "id": "xEW61D3VKZRI",
        "outputId": "ee9be1a4-059a-4f88-e863-8b09c626438e"
      },
      "source": [
        "look_back=100\n",
        "trainPredictPlot = np.empty_like(df1)\n",
        "trainPredictPlot[:, :] = np.nan\n",
        "trainPredictPlot[look_back:len(train_predict)+look_back, :] = train_predict\n",
        "\n",
        "testPredictPlot = np.empty_like(df1)\n",
        "testPredictPlot[:, :] = np.nan\n",
        "testPredictPlot[len(train_predict)+(look_back*2)+1:len(df1)-1, :] = test_predict\n",
        "\n",
        "plt.plot(scaler.inverse_transform(df1))\n",
        "plt.plot(trainPredictPlot)\n",
        "plt.plot(testPredictPlot)\n",
        "plt.show()"
      ],
      "execution_count": null,
      "outputs": [
        {
          "output_type": "display_data",
          "data": {
            "image/png": "[encoded data removed]",
            "text/plain": [
              "<Figure size 432x288 with 1 Axes>"
            ]
          },
          "metadata": {
            "tags": [],
            "needs_background": "light"
          }
        }
      ]
    },
    {
      "cell_type": "code",
      "metadata": {
        "colab": {
          "base_uri": "https://localhost:8080/"
        },
        "id": "o3VZdjTQKZM0",
        "outputId": "f57eeaea-5326-4237-a286-ce493bc319f9"
      },
      "source": [
        "len(test_data)"
      ],
      "execution_count": null,
      "outputs": [
        {
          "output_type": "execute_result",
          "data": {
            "text/plain": [
              "1434"
            ]
          },
          "metadata": {
            "tags": []
          },
          "execution_count": 23
        }
      ]
    },
    {
      "cell_type": "code",
      "metadata": {
        "colab": {
          "base_uri": "https://localhost:8080/"
        },
        "id": "9WA_TpoIGJ5k",
        "outputId": "cae46af4-9d49-462d-e931-669dcf13281b"
      },
      "source": [
        "1434-100"
      ],
      "execution_count": null,
      "outputs": [
        {
          "output_type": "execute_result",
          "data": {
            "text/plain": [
              "1334"
            ]
          },
          "metadata": {
            "tags": []
          },
          "execution_count": 24
        }
      ]
    },
    {
      "cell_type": "code",
      "metadata": {
        "colab": {
          "base_uri": "https://localhost:8080/"
        },
        "id": "YoWdHPjeKZI1",
        "outputId": "25c619d1-0a3d-4264-d98d-ddf2ec1f0dbc"
      },
      "source": [
        "x_input=test_data[1334:].reshape(1,-1)\n",
        "x_input.shape"
      ],
      "execution_count": null,
      "outputs": [
        {
          "output_type": "execute_result",
          "data": {
            "text/plain": [
              "(1, 100)"
            ]
          },
          "metadata": {
            "tags": []
          },
          "execution_count": 25
        }
      ]
    },
    {
      "cell_type": "code",
      "metadata": {
        "colab": {
          "base_uri": "https://localhost:8080/"
        },
        "id": "WcYekSsGKZFQ",
        "outputId": "b64aaecc-7f70-496f-aff1-b5212f141961"
      },
      "source": [
        "temp_input=list(x_input)\n",
        "temp_input=temp_input[0].tolist()\n",
        "temp_input"
      ],
      "execution_count": null,
      "outputs": [
        {
          "output_type": "execute_result",
          "data": {
            "text/plain": [
              "[0.8766934658044849,\n",
              " 0.8869780759610904,\n",
              " 0.8728093308256547,\n",
              " 0.8769669284784929,\n",
              " 0.8716604681137423,\n",
              " 0.8924213442507749,\n",
              " 0.8860480906114861,\n",
              " 0.8862669570326615,\n",
              " 0.8699919891213629,\n",
              " 0.8826289866014231,\n",
              " 0.8735478244684299,\n",
              " 0.8537170212100642,\n",
              " 0.8130433708474871,\n",
              " 0.7854169995050451,\n",
              " 0.7979172547069683,\n",
              " 0.7455912759958307,\n",
              " 0.7451536197414098,\n",
              " 0.8147666102096919,\n",
              " 0.7888088053886918,\n",
              " 0.8255162622761971,\n",
              " 0.7986558358788061,\n",
              " 0.7880155513760914,\n",
              " 0.725487010063457,\n",
              " 0.7779223453972525,\n",
              " 0.7508156778643398,\n",
              " 0.6764159855465008,\n",
              " 0.7577633190950537,\n",
              " 0.6599496134574359,\n",
              " 0.6890803577409073,\n",
              " 0.672148954683075,\n",
              " 0.6669792694198597,\n",
              " 0.6244729793078888,\n",
              " 0.6111521282024175,\n",
              " 0.6727233750978985,\n",
              " 0.6690033899349499,\n",
              " 0.7043432489829614,\n",
              " 0.6750757186568218,\n",
              " 0.6944141490554727,\n",
              " 0.6929917908461536,\n",
              " 0.6563937343458375,\n",
              " 0.6673895400188016,\n",
              " 0.6577613759498626,\n",
              " 0.715366429370272,\n",
              " 0.7070511465355328,\n",
              " 0.7252134708015192,\n",
              " 0.7304651707964446,\n",
              " 0.7448527823530555,\n",
              " 0.782599657800753,\n",
              " 0.7754332267367936,\n",
              " 0.7816149996103862,\n",
              " 0.7709747041665387,\n",
              " 0.7549186026764154,\n",
              " 0.7315045893566366,\n",
              " 0.752648361378265,\n",
              " 0.7497215864633853,\n",
              " 0.7714397351353058,\n",
              " 0.7719868246003143,\n",
              " 0.7594318090285659,\n",
              " 0.7844597160290243,\n",
              " 0.8010628194550934,\n",
              " 0.7881249845866791,\n",
              " 0.7993122819664725,\n",
              " 0.8113475061996288,\n",
              " 0.8197448475306092,\n",
              " 0.8282515454842475,\n",
              " 0.8457300380070883,\n",
              " 0.8590782310035073,\n",
              " 0.849231200513393,\n",
              " 0.8389465028277248,\n",
              " 0.8441162318554715,\n",
              " 0.8391106198202078,\n",
              " 0.8589414230785735,\n",
              " 0.8539632732867186,\n",
              " 0.8706211370826129,\n",
              " 0.8641111521063201,\n",
              " 0.8696911517330087,\n",
              " 0.8637829290624869,\n",
              " 0.8675575433016667,\n",
              " 0.8679405267153251,\n",
              " 0.8670925998619622,\n",
              " 0.8777875681465723,\n",
              " 0.8818631073031689,\n",
              " 0.8867319114134987,\n",
              " 0.879073151254356,\n",
              " 0.9041830292219932,\n",
              " 0.9095441624275065,\n",
              " 0.9383466946082775,\n",
              " 0.9625539619406567,\n",
              " 0.9162182534551495,\n",
              " 0.9241505638173629,\n",
              " 0.935611411400227,\n",
              " 0.9604751248202728,\n",
              " 0.9591348579305936,\n",
              " 0.959517841344252,\n",
              " 0.9540198892726722,\n",
              " 0.9790477196852009,\n",
              " 0.9999999999999999,\n",
              " 0.9823027067027809,\n",
              " 0.9953773604372619,\n",
              " 0.9647148575572821]"
            ]
          },
          "metadata": {
            "tags": []
          },
          "execution_count": 26
        }
      ]
    },
    {
      "cell_type": "code",
      "metadata": {
        "colab": {
          "base_uri": "https://localhost:8080/"
        },
        "id": "XxI1aF9cKYpn",
        "outputId": "00cf24c4-df96-482b-c3da-00b4880c4c4e"
      },
      "source": [
        "lst_output=[]\n",
        "n_steps=100\n",
        "i=0\n",
        "while(i<30):\n",
        "    \n",
        "    if(len(temp_input)>100):\n",
        "       \n",
        "        x_input=np.array(temp_input[1:])\n",
        "        print(\"{} day input {}\".format(i,x_input))\n",
        "        x_input=x_input.reshape(1,-1)\n",
        "        x_input = x_input.reshape((1, n_steps, 1))\n",
        "       \n",
        "        yhat = model.predict(x_input, verbose=0)\n",
        "        print(\"{} day output {}\".format(i,yhat))\n",
        "        temp_input.extend(yhat[0].tolist())\n",
        "        temp_input=temp_input[1:]\n",
        "      \n",
        "        lst_output.extend(yhat.tolist())\n",
        "        i=i+1\n",
        "    else:\n",
        "        x_input = x_input.reshape((1, n_steps,1))\n",
        "        yhat = model.predict(x_input, verbose=0)\n",
        "        print(yhat[0])\n",
        "        temp_input.extend(yhat[0].tolist())\n",
        "        print(len(temp_input))\n",
        "        lst_output.extend(yhat.tolist())\n",
        "        i=i+1\n",
        "    \n",
        "\n",
        "print(lst_output)"
      ],
      "execution_count": null,
      "outputs": [
        {
          "output_type": "stream",
          "text": [
            "[0.8643307]\n",
            "101\n",
            "1 day input [0.88697808 0.87280933 0.87696693 0.87166047 0.89242134 0.88604809\n",
            " 0.88626696 0.86999199 0.88262899 0.87354782 0.85371702 0.81304337\n",
            " 0.785417   0.79791725 0.74559128 0.74515362 0.81476661 0.78880881\n",
            " 0.82551626 0.79865584 0.78801555 0.72548701 0.77792235 0.75081568\n",
            " 0.67641599 0.75776332 0.65994961 0.68908036 0.67214895 0.66697927\n",
            " 0.62447298 0.61115213 0.67272338 0.66900339 0.70434325 0.67507572\n",
            " 0.69441415 0.69299179 0.65639373 0.66738954 0.65776138 0.71536643\n",
            " 0.70705115 0.72521347 0.73046517 0.74485278 0.78259966 0.77543323\n",
            " 0.781615   0.7709747  0.7549186  0.73150459 0.75264836 0.74972159\n",
            " 0.77143974 0.77198682 0.75943181 0.78445972 0.80106282 0.78812498\n",
            " 0.79931228 0.81134751 0.81974485 0.82825155 0.84573004 0.85907823\n",
            " 0.8492312  0.8389465  0.84411623 0.83911062 0.85894142 0.85396327\n",
            " 0.87062114 0.86411115 0.86969115 0.86378293 0.86755754 0.86794053\n",
            " 0.8670926  0.87778757 0.88186311 0.88673191 0.87907315 0.90418303\n",
            " 0.90954416 0.93834669 0.96255396 0.91621825 0.92415056 0.93561141\n",
            " 0.96047512 0.95913486 0.95951784 0.95401989 0.97904772 1.\n",
            " 0.98230271 0.99537736 0.96471486 0.86433071]\n",
            "1 day output [[0.86698496]]\n",
            "2 day input [0.87280933 0.87696693 0.87166047 0.89242134 0.88604809 0.88626696\n",
            " 0.86999199 0.88262899 0.87354782 0.85371702 0.81304337 0.785417\n",
            " 0.79791725 0.74559128 0.74515362 0.81476661 0.78880881 0.82551626\n",
            " 0.79865584 0.78801555 0.72548701 0.77792235 0.75081568 0.67641599\n",
            " 0.75776332 0.65994961 0.68908036 0.67214895 0.66697927 0.62447298\n",
            " 0.61115213 0.67272338 0.66900339 0.70434325 0.67507572 0.69441415\n",
            " 0.69299179 0.65639373 0.66738954 0.65776138 0.71536643 0.70705115\n",
            " 0.72521347 0.73046517 0.74485278 0.78259966 0.77543323 0.781615\n",
            " 0.7709747  0.7549186  0.73150459 0.75264836 0.74972159 0.77143974\n",
            " 0.77198682 0.75943181 0.78445972 0.80106282 0.78812498 0.79931228\n",
            " 0.81134751 0.81974485 0.82825155 0.84573004 0.85907823 0.8492312\n",
            " 0.8389465  0.84411623 0.83911062 0.85894142 0.85396327 0.87062114\n",
            " 0.86411115 0.86969115 0.86378293 0.86755754 0.86794053 0.8670926\n",
            " 0.87778757 0.88186311 0.88673191 0.87907315 0.90418303 0.90954416\n",
            " 0.93834669 0.96255396 0.91621825 0.92415056 0.93561141 0.96047512\n",
            " 0.95913486 0.95951784 0.95401989 0.97904772 1.         0.98230271\n",
            " 0.99537736 0.96471486 0.86433071 0.86698496]\n",
            "2 day output [[0.86733556]]\n",
            "3 day input [0.87696693 0.87166047 0.89242134 0.88604809 0.88626696 0.86999199\n",
            " 0.88262899 0.87354782 0.85371702 0.81304337 0.785417   0.79791725\n",
            " 0.74559128 0.74515362 0.81476661 0.78880881 0.82551626 0.79865584\n",
            " 0.78801555 0.72548701 0.77792235 0.75081568 0.67641599 0.75776332\n",
            " 0.65994961 0.68908036 0.67214895 0.66697927 0.62447298 0.61115213\n",
            " 0.67272338 0.66900339 0.70434325 0.67507572 0.69441415 0.69299179\n",
            " 0.65639373 0.66738954 0.65776138 0.71536643 0.70705115 0.72521347\n",
            " 0.73046517 0.74485278 0.78259966 0.77543323 0.781615   0.7709747\n",
            " 0.7549186  0.73150459 0.75264836 0.74972159 0.77143974 0.77198682\n",
            " 0.75943181 0.78445972 0.80106282 0.78812498 0.79931228 0.81134751\n",
            " 0.81974485 0.82825155 0.84573004 0.85907823 0.8492312  0.8389465\n",
            " 0.84411623 0.83911062 0.85894142 0.85396327 0.87062114 0.86411115\n",
            " 0.86969115 0.86378293 0.86755754 0.86794053 0.8670926  0.87778757\n",
            " 0.88186311 0.88673191 0.87907315 0.90418303 0.90954416 0.93834669\n",
            " 0.96255396 0.91621825 0.92415056 0.93561141 0.96047512 0.95913486\n",
            " 0.95951784 0.95401989 0.97904772 1.         0.98230271 0.99537736\n",
            " 0.96471486 0.86433071 0.86698496 0.86733556]\n",
            "3 day output [[0.86535454]]\n",
            "4 day input [0.87166047 0.89242134 0.88604809 0.88626696 0.86999199 0.88262899\n",
            " 0.87354782 0.85371702 0.81304337 0.785417   0.79791725 0.74559128\n",
            " 0.74515362 0.81476661 0.78880881 0.82551626 0.79865584 0.78801555\n",
            " 0.72548701 0.77792235 0.75081568 0.67641599 0.75776332 0.65994961\n",
            " 0.68908036 0.67214895 0.66697927 0.62447298 0.61115213 0.67272338\n",
            " 0.66900339 0.70434325 0.67507572 0.69441415 0.69299179 0.65639373\n",
            " 0.66738954 0.65776138 0.71536643 0.70705115 0.72521347 0.73046517\n",
            " 0.74485278 0.78259966 0.77543323 0.781615   0.7709747  0.7549186\n",
            " 0.73150459 0.75264836 0.74972159 0.77143974 0.77198682 0.75943181\n",
            " 0.78445972 0.80106282 0.78812498 0.79931228 0.81134751 0.81974485\n",
            " 0.82825155 0.84573004 0.85907823 0.8492312  0.8389465  0.84411623\n",
            " 0.83911062 0.85894142 0.85396327 0.87062114 0.86411115 0.86969115\n",
            " 0.86378293 0.86755754 0.86794053 0.8670926  0.87778757 0.88186311\n",
            " 0.88673191 0.87907315 0.90418303 0.90954416 0.93834669 0.96255396\n",
            " 0.91621825 0.92415056 0.93561141 0.96047512 0.95913486 0.95951784\n",
            " 0.95401989 0.97904772 1.         0.98230271 0.99537736 0.96471486\n",
            " 0.86433071 0.86698496 0.86733556 0.86535454]\n",
            "4 day output [[0.8612727]]\n",
            "5 day input [0.89242134 0.88604809 0.88626696 0.86999199 0.88262899 0.87354782\n",
            " 0.85371702 0.81304337 0.785417   0.79791725 0.74559128 0.74515362\n",
            " 0.81476661 0.78880881 0.82551626 0.79865584 0.78801555 0.72548701\n",
            " 0.77792235 0.75081568 0.67641599 0.75776332 0.65994961 0.68908036\n",
            " 0.67214895 0.66697927 0.62447298 0.61115213 0.67272338 0.66900339\n",
            " 0.70434325 0.67507572 0.69441415 0.69299179 0.65639373 0.66738954\n",
            " 0.65776138 0.71536643 0.70705115 0.72521347 0.73046517 0.74485278\n",
            " 0.78259966 0.77543323 0.781615   0.7709747  0.7549186  0.73150459\n",
            " 0.75264836 0.74972159 0.77143974 0.77198682 0.75943181 0.78445972\n",
            " 0.80106282 0.78812498 0.79931228 0.81134751 0.81974485 0.82825155\n",
            " 0.84573004 0.85907823 0.8492312  0.8389465  0.84411623 0.83911062\n",
            " 0.85894142 0.85396327 0.87062114 0.86411115 0.86969115 0.86378293\n",
            " 0.86755754 0.86794053 0.8670926  0.87778757 0.88186311 0.88673191\n",
            " 0.87907315 0.90418303 0.90954416 0.93834669 0.96255396 0.91621825\n",
            " 0.92415056 0.93561141 0.96047512 0.95913486 0.95951784 0.95401989\n",
            " 0.97904772 1.         0.98230271 0.99537736 0.96471486 0.86433071\n",
            " 0.86698496 0.86733556 0.86535454 0.86127269]\n",
            "5 day output [[0.8554448]]\n",
            "6 day input [0.88604809 0.88626696 0.86999199 0.88262899 0.87354782 0.85371702\n",
            " 0.81304337 0.785417   0.79791725 0.74559128 0.74515362 0.81476661\n",
            " 0.78880881 0.82551626 0.79865584 0.78801555 0.72548701 0.77792235\n",
            " 0.75081568 0.67641599 0.75776332 0.65994961 0.68908036 0.67214895\n",
            " 0.66697927 0.62447298 0.61115213 0.67272338 0.66900339 0.70434325\n",
            " 0.67507572 0.69441415 0.69299179 0.65639373 0.66738954 0.65776138\n",
            " 0.71536643 0.70705115 0.72521347 0.73046517 0.74485278 0.78259966\n",
            " 0.77543323 0.781615   0.7709747  0.7549186  0.73150459 0.75264836\n",
            " 0.74972159 0.77143974 0.77198682 0.75943181 0.78445972 0.80106282\n",
            " 0.78812498 0.79931228 0.81134751 0.81974485 0.82825155 0.84573004\n",
            " 0.85907823 0.8492312  0.8389465  0.84411623 0.83911062 0.85894142\n",
            " 0.85396327 0.87062114 0.86411115 0.86969115 0.86378293 0.86755754\n",
            " 0.86794053 0.8670926  0.87778757 0.88186311 0.88673191 0.87907315\n",
            " 0.90418303 0.90954416 0.93834669 0.96255396 0.91621825 0.92415056\n",
            " 0.93561141 0.96047512 0.95913486 0.95951784 0.95401989 0.97904772\n",
            " 1.         0.98230271 0.99537736 0.96471486 0.86433071 0.86698496\n",
            " 0.86733556 0.86535454 0.86127269 0.85544479]\n",
            "6 day output [[0.8482591]]\n",
            "7 day input [0.88626696 0.86999199 0.88262899 0.87354782 0.85371702 0.81304337\n",
            " 0.785417   0.79791725 0.74559128 0.74515362 0.81476661 0.78880881\n",
            " 0.82551626 0.79865584 0.78801555 0.72548701 0.77792235 0.75081568\n",
            " 0.67641599 0.75776332 0.65994961 0.68908036 0.67214895 0.66697927\n",
            " 0.62447298 0.61115213 0.67272338 0.66900339 0.70434325 0.67507572\n",
            " 0.69441415 0.69299179 0.65639373 0.66738954 0.65776138 0.71536643\n",
            " 0.70705115 0.72521347 0.73046517 0.74485278 0.78259966 0.77543323\n",
            " 0.781615   0.7709747  0.7549186  0.73150459 0.75264836 0.74972159\n",
            " 0.77143974 0.77198682 0.75943181 0.78445972 0.80106282 0.78812498\n",
            " 0.79931228 0.81134751 0.81974485 0.82825155 0.84573004 0.85907823\n",
            " 0.8492312  0.8389465  0.84411623 0.83911062 0.85894142 0.85396327\n",
            " 0.87062114 0.86411115 0.86969115 0.86378293 0.86755754 0.86794053\n",
            " 0.8670926  0.87778757 0.88186311 0.88673191 0.87907315 0.90418303\n",
            " 0.90954416 0.93834669 0.96255396 0.91621825 0.92415056 0.93561141\n",
            " 0.96047512 0.95913486 0.95951784 0.95401989 0.97904772 1.\n",
            " 0.98230271 0.99537736 0.96471486 0.86433071 0.86698496 0.86733556\n",
            " 0.86535454 0.86127269 0.85544479 0.84825909]\n",
            "7 day output [[0.8400833]]\n",
            "8 day input [0.86999199 0.88262899 0.87354782 0.85371702 0.81304337 0.785417\n",
            " 0.79791725 0.74559128 0.74515362 0.81476661 0.78880881 0.82551626\n",
            " 0.79865584 0.78801555 0.72548701 0.77792235 0.75081568 0.67641599\n",
            " 0.75776332 0.65994961 0.68908036 0.67214895 0.66697927 0.62447298\n",
            " 0.61115213 0.67272338 0.66900339 0.70434325 0.67507572 0.69441415\n",
            " 0.69299179 0.65639373 0.66738954 0.65776138 0.71536643 0.70705115\n",
            " 0.72521347 0.73046517 0.74485278 0.78259966 0.77543323 0.781615\n",
            " 0.7709747  0.7549186  0.73150459 0.75264836 0.74972159 0.77143974\n",
            " 0.77198682 0.75943181 0.78445972 0.80106282 0.78812498 0.79931228\n",
            " 0.81134751 0.81974485 0.82825155 0.84573004 0.85907823 0.8492312\n",
            " 0.8389465  0.84411623 0.83911062 0.85894142 0.85396327 0.87062114\n",
            " 0.86411115 0.86969115 0.86378293 0.86755754 0.86794053 0.8670926\n",
            " 0.87778757 0.88186311 0.88673191 0.87907315 0.90418303 0.90954416\n",
            " 0.93834669 0.96255396 0.91621825 0.92415056 0.93561141 0.96047512\n",
            " 0.95913486 0.95951784 0.95401989 0.97904772 1.         0.98230271\n",
            " 0.99537736 0.96471486 0.86433071 0.86698496 0.86733556 0.86535454\n",
            " 0.86127269 0.85544479 0.84825909 0.8400833 ]\n",
            "8 day output [[0.83123696]]\n",
            "9 day input [0.88262899 0.87354782 0.85371702 0.81304337 0.785417   0.79791725\n",
            " 0.74559128 0.74515362 0.81476661 0.78880881 0.82551626 0.79865584\n",
            " 0.78801555 0.72548701 0.77792235 0.75081568 0.67641599 0.75776332\n",
            " 0.65994961 0.68908036 0.67214895 0.66697927 0.62447298 0.61115213\n",
            " 0.67272338 0.66900339 0.70434325 0.67507572 0.69441415 0.69299179\n",
            " 0.65639373 0.66738954 0.65776138 0.71536643 0.70705115 0.72521347\n",
            " 0.73046517 0.74485278 0.78259966 0.77543323 0.781615   0.7709747\n",
            " 0.7549186  0.73150459 0.75264836 0.74972159 0.77143974 0.77198682\n",
            " 0.75943181 0.78445972 0.80106282 0.78812498 0.79931228 0.81134751\n",
            " 0.81974485 0.82825155 0.84573004 0.85907823 0.8492312  0.8389465\n",
            " 0.84411623 0.83911062 0.85894142 0.85396327 0.87062114 0.86411115\n",
            " 0.86969115 0.86378293 0.86755754 0.86794053 0.8670926  0.87778757\n",
            " 0.88186311 0.88673191 0.87907315 0.90418303 0.90954416 0.93834669\n",
            " 0.96255396 0.91621825 0.92415056 0.93561141 0.96047512 0.95913486\n",
            " 0.95951784 0.95401989 0.97904772 1.         0.98230271 0.99537736\n",
            " 0.96471486 0.86433071 0.86698496 0.86733556 0.86535454 0.86127269\n",
            " 0.85544479 0.84825909 0.8400833  0.83123696]\n",
            "9 day output [[0.82197875]]\n",
            "10 day input [0.87354782 0.85371702 0.81304337 0.785417   0.79791725 0.74559128\n",
            " 0.74515362 0.81476661 0.78880881 0.82551626 0.79865584 0.78801555\n",
            " 0.72548701 0.77792235 0.75081568 0.67641599 0.75776332 0.65994961\n",
            " 0.68908036 0.67214895 0.66697927 0.62447298 0.61115213 0.67272338\n",
            " 0.66900339 0.70434325 0.67507572 0.69441415 0.69299179 0.65639373\n",
            " 0.66738954 0.65776138 0.71536643 0.70705115 0.72521347 0.73046517\n",
            " 0.74485278 0.78259966 0.77543323 0.781615   0.7709747  0.7549186\n",
            " 0.73150459 0.75264836 0.74972159 0.77143974 0.77198682 0.75943181\n",
            " 0.78445972 0.80106282 0.78812498 0.79931228 0.81134751 0.81974485\n",
            " 0.82825155 0.84573004 0.85907823 0.8492312  0.8389465  0.84411623\n",
            " 0.83911062 0.85894142 0.85396327 0.87062114 0.86411115 0.86969115\n",
            " 0.86378293 0.86755754 0.86794053 0.8670926  0.87778757 0.88186311\n",
            " 0.88673191 0.87907315 0.90418303 0.90954416 0.93834669 0.96255396\n",
            " 0.91621825 0.92415056 0.93561141 0.96047512 0.95913486 0.95951784\n",
            " 0.95401989 0.97904772 1.         0.98230271 0.99537736 0.96471486\n",
            " 0.86433071 0.86698496 0.86733556 0.86535454 0.86127269 0.85544479\n",
            " 0.84825909 0.8400833  0.83123696 0.82197875]\n",
            "10 day output [[0.81250757]]\n",
            "11 day input [0.85371702 0.81304337 0.785417   0.79791725 0.74559128 0.74515362\n",
            " 0.81476661 0.78880881 0.82551626 0.79865584 0.78801555 0.72548701\n",
            " 0.77792235 0.75081568 0.67641599 0.75776332 0.65994961 0.68908036\n",
            " 0.67214895 0.66697927 0.62447298 0.61115213 0.67272338 0.66900339\n",
            " 0.70434325 0.67507572 0.69441415 0.69299179 0.65639373 0.66738954\n",
            " 0.65776138 0.71536643 0.70705115 0.72521347 0.73046517 0.74485278\n",
            " 0.78259966 0.77543323 0.781615   0.7709747  0.7549186  0.73150459\n",
            " 0.75264836 0.74972159 0.77143974 0.77198682 0.75943181 0.78445972\n",
            " 0.80106282 0.78812498 0.79931228 0.81134751 0.81974485 0.82825155\n",
            " 0.84573004 0.85907823 0.8492312  0.8389465  0.84411623 0.83911062\n",
            " 0.85894142 0.85396327 0.87062114 0.86411115 0.86969115 0.86378293\n",
            " 0.86755754 0.86794053 0.8670926  0.87778757 0.88186311 0.88673191\n",
            " 0.87907315 0.90418303 0.90954416 0.93834669 0.96255396 0.91621825\n",
            " 0.92415056 0.93561141 0.96047512 0.95913486 0.95951784 0.95401989\n",
            " 0.97904772 1.         0.98230271 0.99537736 0.96471486 0.86433071\n",
            " 0.86698496 0.86733556 0.86535454 0.86127269 0.85544479 0.84825909\n",
            " 0.8400833  0.83123696 0.82197875 0.81250757]\n",
            "11 day output [[0.80296886]]\n",
            "12 day input [0.81304337 0.785417   0.79791725 0.74559128 0.74515362 0.81476661\n",
            " 0.78880881 0.82551626 0.79865584 0.78801555 0.72548701 0.77792235\n",
            " 0.75081568 0.67641599 0.75776332 0.65994961 0.68908036 0.67214895\n",
            " 0.66697927 0.62447298 0.61115213 0.67272338 0.66900339 0.70434325\n",
            " 0.67507572 0.69441415 0.69299179 0.65639373 0.66738954 0.65776138\n",
            " 0.71536643 0.70705115 0.72521347 0.73046517 0.74485278 0.78259966\n",
            " 0.77543323 0.781615   0.7709747  0.7549186  0.73150459 0.75264836\n",
            " 0.74972159 0.77143974 0.77198682 0.75943181 0.78445972 0.80106282\n",
            " 0.78812498 0.79931228 0.81134751 0.81974485 0.82825155 0.84573004\n",
            " 0.85907823 0.8492312  0.8389465  0.84411623 0.83911062 0.85894142\n",
            " 0.85396327 0.87062114 0.86411115 0.86969115 0.86378293 0.86755754\n",
            " 0.86794053 0.8670926  0.87778757 0.88186311 0.88673191 0.87907315\n",
            " 0.90418303 0.90954416 0.93834669 0.96255396 0.91621825 0.92415056\n",
            " 0.93561141 0.96047512 0.95913486 0.95951784 0.95401989 0.97904772\n",
            " 1.         0.98230271 0.99537736 0.96471486 0.86433071 0.86698496\n",
            " 0.86733556 0.86535454 0.86127269 0.85544479 0.84825909 0.8400833\n",
            " 0.83123696 0.82197875 0.81250757 0.80296886]\n",
            "12 day output [[0.7934643]]\n",
            "13 day input [0.785417   0.79791725 0.74559128 0.74515362 0.81476661 0.78880881\n",
            " 0.82551626 0.79865584 0.78801555 0.72548701 0.77792235 0.75081568\n",
            " 0.67641599 0.75776332 0.65994961 0.68908036 0.67214895 0.66697927\n",
            " 0.62447298 0.61115213 0.67272338 0.66900339 0.70434325 0.67507572\n",
            " 0.69441415 0.69299179 0.65639373 0.66738954 0.65776138 0.71536643\n",
            " 0.70705115 0.72521347 0.73046517 0.74485278 0.78259966 0.77543323\n",
            " 0.781615   0.7709747  0.7549186  0.73150459 0.75264836 0.74972159\n",
            " 0.77143974 0.77198682 0.75943181 0.78445972 0.80106282 0.78812498\n",
            " 0.79931228 0.81134751 0.81974485 0.82825155 0.84573004 0.85907823\n",
            " 0.8492312  0.8389465  0.84411623 0.83911062 0.85894142 0.85396327\n",
            " 0.87062114 0.86411115 0.86969115 0.86378293 0.86755754 0.86794053\n",
            " 0.8670926  0.87778757 0.88186311 0.88673191 0.87907315 0.90418303\n",
            " 0.90954416 0.93834669 0.96255396 0.91621825 0.92415056 0.93561141\n",
            " 0.96047512 0.95913486 0.95951784 0.95401989 0.97904772 1.\n",
            " 0.98230271 0.99537736 0.96471486 0.86433071 0.86698496 0.86733556\n",
            " 0.86535454 0.86127269 0.85544479 0.84825909 0.8400833  0.83123696\n",
            " 0.82197875 0.81250757 0.80296886 0.7934643 ]\n",
            "13 day output [[0.784061]]\n",
            "14 day input [0.79791725 0.74559128 0.74515362 0.81476661 0.78880881 0.82551626\n",
            " 0.79865584 0.78801555 0.72548701 0.77792235 0.75081568 0.67641599\n",
            " 0.75776332 0.65994961 0.68908036 0.67214895 0.66697927 0.62447298\n",
            " 0.61115213 0.67272338 0.66900339 0.70434325 0.67507572 0.69441415\n",
            " 0.69299179 0.65639373 0.66738954 0.65776138 0.71536643 0.70705115\n",
            " 0.72521347 0.73046517 0.74485278 0.78259966 0.77543323 0.781615\n",
            " 0.7709747  0.7549186  0.73150459 0.75264836 0.74972159 0.77143974\n",
            " 0.77198682 0.75943181 0.78445972 0.80106282 0.78812498 0.79931228\n",
            " 0.81134751 0.81974485 0.82825155 0.84573004 0.85907823 0.8492312\n",
            " 0.8389465  0.84411623 0.83911062 0.85894142 0.85396327 0.87062114\n",
            " 0.86411115 0.86969115 0.86378293 0.86755754 0.86794053 0.8670926\n",
            " 0.87778757 0.88186311 0.88673191 0.87907315 0.90418303 0.90954416\n",
            " 0.93834669 0.96255396 0.91621825 0.92415056 0.93561141 0.96047512\n",
            " 0.95913486 0.95951784 0.95401989 0.97904772 1.         0.98230271\n",
            " 0.99537736 0.96471486 0.86433071 0.86698496 0.86733556 0.86535454\n",
            " 0.86127269 0.85544479 0.84825909 0.8400833  0.83123696 0.82197875\n",
            " 0.81250757 0.80296886 0.7934643  0.78406101]\n",
            "14 day output [[0.7747996]]\n",
            "15 day input [0.74559128 0.74515362 0.81476661 0.78880881 0.82551626 0.79865584\n",
            " 0.78801555 0.72548701 0.77792235 0.75081568 0.67641599 0.75776332\n",
            " 0.65994961 0.68908036 0.67214895 0.66697927 0.62447298 0.61115213\n",
            " 0.67272338 0.66900339 0.70434325 0.67507572 0.69441415 0.69299179\n",
            " 0.65639373 0.66738954 0.65776138 0.71536643 0.70705115 0.72521347\n",
            " 0.73046517 0.74485278 0.78259966 0.77543323 0.781615   0.7709747\n",
            " 0.7549186  0.73150459 0.75264836 0.74972159 0.77143974 0.77198682\n",
            " 0.75943181 0.78445972 0.80106282 0.78812498 0.79931228 0.81134751\n",
            " 0.81974485 0.82825155 0.84573004 0.85907823 0.8492312  0.8389465\n",
            " 0.84411623 0.83911062 0.85894142 0.85396327 0.87062114 0.86411115\n",
            " 0.86969115 0.86378293 0.86755754 0.86794053 0.8670926  0.87778757\n",
            " 0.88186311 0.88673191 0.87907315 0.90418303 0.90954416 0.93834669\n",
            " 0.96255396 0.91621825 0.92415056 0.93561141 0.96047512 0.95913486\n",
            " 0.95951784 0.95401989 0.97904772 1.         0.98230271 0.99537736\n",
            " 0.96471486 0.86433071 0.86698496 0.86733556 0.86535454 0.86127269\n",
            " 0.85544479 0.84825909 0.8400833  0.83123696 0.82197875 0.81250757\n",
            " 0.80296886 0.7934643  0.78406101 0.77479959]\n",
            "15 day output [[0.7657038]]\n",
            "16 day input [0.74515362 0.81476661 0.78880881 0.82551626 0.79865584 0.78801555\n",
            " 0.72548701 0.77792235 0.75081568 0.67641599 0.75776332 0.65994961\n",
            " 0.68908036 0.67214895 0.66697927 0.62447298 0.61115213 0.67272338\n",
            " 0.66900339 0.70434325 0.67507572 0.69441415 0.69299179 0.65639373\n",
            " 0.66738954 0.65776138 0.71536643 0.70705115 0.72521347 0.73046517\n",
            " 0.74485278 0.78259966 0.77543323 0.781615   0.7709747  0.7549186\n",
            " 0.73150459 0.75264836 0.74972159 0.77143974 0.77198682 0.75943181\n",
            " 0.78445972 0.80106282 0.78812498 0.79931228 0.81134751 0.81974485\n",
            " 0.82825155 0.84573004 0.85907823 0.8492312  0.8389465  0.84411623\n",
            " 0.83911062 0.85894142 0.85396327 0.87062114 0.86411115 0.86969115\n",
            " 0.86378293 0.86755754 0.86794053 0.8670926  0.87778757 0.88186311\n",
            " 0.88673191 0.87907315 0.90418303 0.90954416 0.93834669 0.96255396\n",
            " 0.91621825 0.92415056 0.93561141 0.96047512 0.95913486 0.95951784\n",
            " 0.95401989 0.97904772 1.         0.98230271 0.99537736 0.96471486\n",
            " 0.86433071 0.86698496 0.86733556 0.86535454 0.86127269 0.85544479\n",
            " 0.84825909 0.8400833  0.83123696 0.82197875 0.81250757 0.80296886\n",
            " 0.7934643  0.78406101 0.77479959 0.7657038 ]\n",
            "16 day output [[0.75678533]]\n",
            "17 day input [0.81476661 0.78880881 0.82551626 0.79865584 0.78801555 0.72548701\n",
            " 0.77792235 0.75081568 0.67641599 0.75776332 0.65994961 0.68908036\n",
            " 0.67214895 0.66697927 0.62447298 0.61115213 0.67272338 0.66900339\n",
            " 0.70434325 0.67507572 0.69441415 0.69299179 0.65639373 0.66738954\n",
            " 0.65776138 0.71536643 0.70705115 0.72521347 0.73046517 0.74485278\n",
            " 0.78259966 0.77543323 0.781615   0.7709747  0.7549186  0.73150459\n",
            " 0.75264836 0.74972159 0.77143974 0.77198682 0.75943181 0.78445972\n",
            " 0.80106282 0.78812498 0.79931228 0.81134751 0.81974485 0.82825155\n",
            " 0.84573004 0.85907823 0.8492312  0.8389465  0.84411623 0.83911062\n",
            " 0.85894142 0.85396327 0.87062114 0.86411115 0.86969115 0.86378293\n",
            " 0.86755754 0.86794053 0.8670926  0.87778757 0.88186311 0.88673191\n",
            " 0.87907315 0.90418303 0.90954416 0.93834669 0.96255396 0.91621825\n",
            " 0.92415056 0.93561141 0.96047512 0.95913486 0.95951784 0.95401989\n",
            " 0.97904772 1.         0.98230271 0.99537736 0.96471486 0.86433071\n",
            " 0.86698496 0.86733556 0.86535454 0.86127269 0.85544479 0.84825909\n",
            " 0.8400833  0.83123696 0.82197875 0.81250757 0.80296886 0.7934643\n",
            " 0.78406101 0.77479959 0.7657038  0.75678533]\n",
            "17 day output [[0.7480485]]\n",
            "18 day input [0.78880881 0.82551626 0.79865584 0.78801555 0.72548701 0.77792235\n",
            " 0.75081568 0.67641599 0.75776332 0.65994961 0.68908036 0.67214895\n",
            " 0.66697927 0.62447298 0.61115213 0.67272338 0.66900339 0.70434325\n",
            " 0.67507572 0.69441415 0.69299179 0.65639373 0.66738954 0.65776138\n",
            " 0.71536643 0.70705115 0.72521347 0.73046517 0.74485278 0.78259966\n",
            " 0.77543323 0.781615   0.7709747  0.7549186  0.73150459 0.75264836\n",
            " 0.74972159 0.77143974 0.77198682 0.75943181 0.78445972 0.80106282\n",
            " 0.78812498 0.79931228 0.81134751 0.81974485 0.82825155 0.84573004\n",
            " 0.85907823 0.8492312  0.8389465  0.84411623 0.83911062 0.85894142\n",
            " 0.85396327 0.87062114 0.86411115 0.86969115 0.86378293 0.86755754\n",
            " 0.86794053 0.8670926  0.87778757 0.88186311 0.88673191 0.87907315\n",
            " 0.90418303 0.90954416 0.93834669 0.96255396 0.91621825 0.92415056\n",
            " 0.93561141 0.96047512 0.95913486 0.95951784 0.95401989 0.97904772\n",
            " 1.         0.98230271 0.99537736 0.96471486 0.86433071 0.86698496\n",
            " 0.86733556 0.86535454 0.86127269 0.85544479 0.84825909 0.8400833\n",
            " 0.83123696 0.82197875 0.81250757 0.80296886 0.7934643  0.78406101\n",
            " 0.77479959 0.7657038  0.75678533 0.74804848]\n",
            "18 day output [[0.7394935]]\n",
            "19 day input [0.82551626 0.79865584 0.78801555 0.72548701 0.77792235 0.75081568\n",
            " 0.67641599 0.75776332 0.65994961 0.68908036 0.67214895 0.66697927\n",
            " 0.62447298 0.61115213 0.67272338 0.66900339 0.70434325 0.67507572\n",
            " 0.69441415 0.69299179 0.65639373 0.66738954 0.65776138 0.71536643\n",
            " 0.70705115 0.72521347 0.73046517 0.74485278 0.78259966 0.77543323\n",
            " 0.781615   0.7709747  0.7549186  0.73150459 0.75264836 0.74972159\n",
            " 0.77143974 0.77198682 0.75943181 0.78445972 0.80106282 0.78812498\n",
            " 0.79931228 0.81134751 0.81974485 0.82825155 0.84573004 0.85907823\n",
            " 0.8492312  0.8389465  0.84411623 0.83911062 0.85894142 0.85396327\n",
            " 0.87062114 0.86411115 0.86969115 0.86378293 0.86755754 0.86794053\n",
            " 0.8670926  0.87778757 0.88186311 0.88673191 0.87907315 0.90418303\n",
            " 0.90954416 0.93834669 0.96255396 0.91621825 0.92415056 0.93561141\n",
            " 0.96047512 0.95913486 0.95951784 0.95401989 0.97904772 1.\n",
            " 0.98230271 0.99537736 0.96471486 0.86433071 0.86698496 0.86733556\n",
            " 0.86535454 0.86127269 0.85544479 0.84825909 0.8400833  0.83123696\n",
            " 0.82197875 0.81250757 0.80296886 0.7934643  0.78406101 0.77479959\n",
            " 0.7657038  0.75678533 0.74804848 0.73949349]\n",
            "19 day output [[0.73111814]]\n",
            "20 day input [0.79865584 0.78801555 0.72548701 0.77792235 0.75081568 0.67641599\n",
            " 0.75776332 0.65994961 0.68908036 0.67214895 0.66697927 0.62447298\n",
            " 0.61115213 0.67272338 0.66900339 0.70434325 0.67507572 0.69441415\n",
            " 0.69299179 0.65639373 0.66738954 0.65776138 0.71536643 0.70705115\n",
            " 0.72521347 0.73046517 0.74485278 0.78259966 0.77543323 0.781615\n",
            " 0.7709747  0.7549186  0.73150459 0.75264836 0.74972159 0.77143974\n",
            " 0.77198682 0.75943181 0.78445972 0.80106282 0.78812498 0.79931228\n",
            " 0.81134751 0.81974485 0.82825155 0.84573004 0.85907823 0.8492312\n",
            " 0.8389465  0.84411623 0.83911062 0.85894142 0.85396327 0.87062114\n",
            " 0.86411115 0.86969115 0.86378293 0.86755754 0.86794053 0.8670926\n",
            " 0.87778757 0.88186311 0.88673191 0.87907315 0.90418303 0.90954416\n",
            " 0.93834669 0.96255396 0.91621825 0.92415056 0.93561141 0.96047512\n",
            " 0.95913486 0.95951784 0.95401989 0.97904772 1.         0.98230271\n",
            " 0.99537736 0.96471486 0.86433071 0.86698496 0.86733556 0.86535454\n",
            " 0.86127269 0.85544479 0.84825909 0.8400833  0.83123696 0.82197875\n",
            " 0.81250757 0.80296886 0.7934643  0.78406101 0.77479959 0.7657038\n",
            " 0.75678533 0.74804848 0.73949349 0.73111814]\n",
            "20 day output [[0.72292054]]\n",
            "21 day input [0.78801555 0.72548701 0.77792235 0.75081568 0.67641599 0.75776332\n",
            " 0.65994961 0.68908036 0.67214895 0.66697927 0.62447298 0.61115213\n",
            " 0.67272338 0.66900339 0.70434325 0.67507572 0.69441415 0.69299179\n",
            " 0.65639373 0.66738954 0.65776138 0.71536643 0.70705115 0.72521347\n",
            " 0.73046517 0.74485278 0.78259966 0.77543323 0.781615   0.7709747\n",
            " 0.7549186  0.73150459 0.75264836 0.74972159 0.77143974 0.77198682\n",
            " 0.75943181 0.78445972 0.80106282 0.78812498 0.79931228 0.81134751\n",
            " 0.81974485 0.82825155 0.84573004 0.85907823 0.8492312  0.8389465\n",
            " 0.84411623 0.83911062 0.85894142 0.85396327 0.87062114 0.86411115\n",
            " 0.86969115 0.86378293 0.86755754 0.86794053 0.8670926  0.87778757\n",
            " 0.88186311 0.88673191 0.87907315 0.90418303 0.90954416 0.93834669\n",
            " 0.96255396 0.91621825 0.92415056 0.93561141 0.96047512 0.95913486\n",
            " 0.95951784 0.95401989 0.97904772 1.         0.98230271 0.99537736\n",
            " 0.96471486 0.86433071 0.86698496 0.86733556 0.86535454 0.86127269\n",
            " 0.85544479 0.84825909 0.8400833  0.83123696 0.82197875 0.81250757\n",
            " 0.80296886 0.7934643  0.78406101 0.77479959 0.7657038  0.75678533\n",
            " 0.74804848 0.73949349 0.73111814 0.72292054]\n",
            "21 day output [[0.7148975]]\n",
            "22 day input [0.72548701 0.77792235 0.75081568 0.67641599 0.75776332 0.65994961\n",
            " 0.68908036 0.67214895 0.66697927 0.62447298 0.61115213 0.67272338\n",
            " 0.66900339 0.70434325 0.67507572 0.69441415 0.69299179 0.65639373\n",
            " 0.66738954 0.65776138 0.71536643 0.70705115 0.72521347 0.73046517\n",
            " 0.74485278 0.78259966 0.77543323 0.781615   0.7709747  0.7549186\n",
            " 0.73150459 0.75264836 0.74972159 0.77143974 0.77198682 0.75943181\n",
            " 0.78445972 0.80106282 0.78812498 0.79931228 0.81134751 0.81974485\n",
            " 0.82825155 0.84573004 0.85907823 0.8492312  0.8389465  0.84411623\n",
            " 0.83911062 0.85894142 0.85396327 0.87062114 0.86411115 0.86969115\n",
            " 0.86378293 0.86755754 0.86794053 0.8670926  0.87778757 0.88186311\n",
            " 0.88673191 0.87907315 0.90418303 0.90954416 0.93834669 0.96255396\n",
            " 0.91621825 0.92415056 0.93561141 0.96047512 0.95913486 0.95951784\n",
            " 0.95401989 0.97904772 1.         0.98230271 0.99537736 0.96471486\n",
            " 0.86433071 0.86698496 0.86733556 0.86535454 0.86127269 0.85544479\n",
            " 0.84825909 0.8400833  0.83123696 0.82197875 0.81250757 0.80296886\n",
            " 0.7934643  0.78406101 0.77479959 0.7657038  0.75678533 0.74804848\n",
            " 0.73949349 0.73111814 0.72292054 0.71489751]\n",
            "22 day output [[0.7070475]]\n",
            "23 day input [0.77792235 0.75081568 0.67641599 0.75776332 0.65994961 0.68908036\n",
            " 0.67214895 0.66697927 0.62447298 0.61115213 0.67272338 0.66900339\n",
            " 0.70434325 0.67507572 0.69441415 0.69299179 0.65639373 0.66738954\n",
            " 0.65776138 0.71536643 0.70705115 0.72521347 0.73046517 0.74485278\n",
            " 0.78259966 0.77543323 0.781615   0.7709747  0.7549186  0.73150459\n",
            " 0.75264836 0.74972159 0.77143974 0.77198682 0.75943181 0.78445972\n",
            " 0.80106282 0.78812498 0.79931228 0.81134751 0.81974485 0.82825155\n",
            " 0.84573004 0.85907823 0.8492312  0.8389465  0.84411623 0.83911062\n",
            " 0.85894142 0.85396327 0.87062114 0.86411115 0.86969115 0.86378293\n",
            " 0.86755754 0.86794053 0.8670926  0.87778757 0.88186311 0.88673191\n",
            " 0.87907315 0.90418303 0.90954416 0.93834669 0.96255396 0.91621825\n",
            " 0.92415056 0.93561141 0.96047512 0.95913486 0.95951784 0.95401989\n",
            " 0.97904772 1.         0.98230271 0.99537736 0.96471486 0.86433071\n",
            " 0.86698496 0.86733556 0.86535454 0.86127269 0.85544479 0.84825909\n",
            " 0.8400833  0.83123696 0.82197875 0.81250757 0.80296886 0.7934643\n",
            " 0.78406101 0.77479959 0.7657038  0.75678533 0.74804848 0.73949349\n",
            " 0.73111814 0.72292054 0.71489751 0.70704752]\n",
            "23 day output [[0.69936854]]\n",
            "24 day input [0.75081568 0.67641599 0.75776332 0.65994961 0.68908036 0.67214895\n",
            " 0.66697927 0.62447298 0.61115213 0.67272338 0.66900339 0.70434325\n",
            " 0.67507572 0.69441415 0.69299179 0.65639373 0.66738954 0.65776138\n",
            " 0.71536643 0.70705115 0.72521347 0.73046517 0.74485278 0.78259966\n",
            " 0.77543323 0.781615   0.7709747  0.7549186  0.73150459 0.75264836\n",
            " 0.74972159 0.77143974 0.77198682 0.75943181 0.78445972 0.80106282\n",
            " 0.78812498 0.79931228 0.81134751 0.81974485 0.82825155 0.84573004\n",
            " 0.85907823 0.8492312  0.8389465  0.84411623 0.83911062 0.85894142\n",
            " 0.85396327 0.87062114 0.86411115 0.86969115 0.86378293 0.86755754\n",
            " 0.86794053 0.8670926  0.87778757 0.88186311 0.88673191 0.87907315\n",
            " 0.90418303 0.90954416 0.93834669 0.96255396 0.91621825 0.92415056\n",
            " 0.93561141 0.96047512 0.95913486 0.95951784 0.95401989 0.97904772\n",
            " 1.         0.98230271 0.99537736 0.96471486 0.86433071 0.86698496\n",
            " 0.86733556 0.86535454 0.86127269 0.85544479 0.84825909 0.8400833\n",
            " 0.83123696 0.82197875 0.81250757 0.80296886 0.7934643  0.78406101\n",
            " 0.77479959 0.7657038  0.75678533 0.74804848 0.73949349 0.73111814\n",
            " 0.72292054 0.71489751 0.70704752 0.69936854]\n",
            "24 day output [[0.6918591]]\n",
            "25 day input [0.67641599 0.75776332 0.65994961 0.68908036 0.67214895 0.66697927\n",
            " 0.62447298 0.61115213 0.67272338 0.66900339 0.70434325 0.67507572\n",
            " 0.69441415 0.69299179 0.65639373 0.66738954 0.65776138 0.71536643\n",
            " 0.70705115 0.72521347 0.73046517 0.74485278 0.78259966 0.77543323\n",
            " 0.781615   0.7709747  0.7549186  0.73150459 0.75264836 0.74972159\n",
            " 0.77143974 0.77198682 0.75943181 0.78445972 0.80106282 0.78812498\n",
            " 0.79931228 0.81134751 0.81974485 0.82825155 0.84573004 0.85907823\n",
            " 0.8492312  0.8389465  0.84411623 0.83911062 0.85894142 0.85396327\n",
            " 0.87062114 0.86411115 0.86969115 0.86378293 0.86755754 0.86794053\n",
            " 0.8670926  0.87778757 0.88186311 0.88673191 0.87907315 0.90418303\n",
            " 0.90954416 0.93834669 0.96255396 0.91621825 0.92415056 0.93561141\n",
            " 0.96047512 0.95913486 0.95951784 0.95401989 0.97904772 1.\n",
            " 0.98230271 0.99537736 0.96471486 0.86433071 0.86698496 0.86733556\n",
            " 0.86535454 0.86127269 0.85544479 0.84825909 0.8400833  0.83123696\n",
            " 0.82197875 0.81250757 0.80296886 0.7934643  0.78406101 0.77479959\n",
            " 0.7657038  0.75678533 0.74804848 0.73949349 0.73111814 0.72292054\n",
            " 0.71489751 0.70704752 0.69936854 0.69185913]\n",
            "25 day output [[0.6845182]]\n",
            "26 day input [0.75776332 0.65994961 0.68908036 0.67214895 0.66697927 0.62447298\n",
            " 0.61115213 0.67272338 0.66900339 0.70434325 0.67507572 0.69441415\n",
            " 0.69299179 0.65639373 0.66738954 0.65776138 0.71536643 0.70705115\n",
            " 0.72521347 0.73046517 0.74485278 0.78259966 0.77543323 0.781615\n",
            " 0.7709747  0.7549186  0.73150459 0.75264836 0.74972159 0.77143974\n",
            " 0.77198682 0.75943181 0.78445972 0.80106282 0.78812498 0.79931228\n",
            " 0.81134751 0.81974485 0.82825155 0.84573004 0.85907823 0.8492312\n",
            " 0.8389465  0.84411623 0.83911062 0.85894142 0.85396327 0.87062114\n",
            " 0.86411115 0.86969115 0.86378293 0.86755754 0.86794053 0.8670926\n",
            " 0.87778757 0.88186311 0.88673191 0.87907315 0.90418303 0.90954416\n",
            " 0.93834669 0.96255396 0.91621825 0.92415056 0.93561141 0.96047512\n",
            " 0.95913486 0.95951784 0.95401989 0.97904772 1.         0.98230271\n",
            " 0.99537736 0.96471486 0.86433071 0.86698496 0.86733556 0.86535454\n",
            " 0.86127269 0.85544479 0.84825909 0.8400833  0.83123696 0.82197875\n",
            " 0.81250757 0.80296886 0.7934643  0.78406101 0.77479959 0.7657038\n",
            " 0.75678533 0.74804848 0.73949349 0.73111814 0.72292054 0.71489751\n",
            " 0.70704752 0.69936854 0.69185913 0.68451822]\n",
            "26 day output [[0.6773446]]\n",
            "27 day input [0.65994961 0.68908036 0.67214895 0.66697927 0.62447298 0.61115213\n",
            " 0.67272338 0.66900339 0.70434325 0.67507572 0.69441415 0.69299179\n",
            " 0.65639373 0.66738954 0.65776138 0.71536643 0.70705115 0.72521347\n",
            " 0.73046517 0.74485278 0.78259966 0.77543323 0.781615   0.7709747\n",
            " 0.7549186  0.73150459 0.75264836 0.74972159 0.77143974 0.77198682\n",
            " 0.75943181 0.78445972 0.80106282 0.78812498 0.79931228 0.81134751\n",
            " 0.81974485 0.82825155 0.84573004 0.85907823 0.8492312  0.8389465\n",
            " 0.84411623 0.83911062 0.85894142 0.85396327 0.87062114 0.86411115\n",
            " 0.86969115 0.86378293 0.86755754 0.86794053 0.8670926  0.87778757\n",
            " 0.88186311 0.88673191 0.87907315 0.90418303 0.90954416 0.93834669\n",
            " 0.96255396 0.91621825 0.92415056 0.93561141 0.96047512 0.95913486\n",
            " 0.95951784 0.95401989 0.97904772 1.         0.98230271 0.99537736\n",
            " 0.96471486 0.86433071 0.86698496 0.86733556 0.86535454 0.86127269\n",
            " 0.85544479 0.84825909 0.8400833  0.83123696 0.82197875 0.81250757\n",
            " 0.80296886 0.7934643  0.78406101 0.77479959 0.7657038  0.75678533\n",
            " 0.74804848 0.73949349 0.73111814 0.72292054 0.71489751 0.70704752\n",
            " 0.69936854 0.69185913 0.68451822 0.67734462]\n",
            "27 day output [[0.67033744]]\n",
            "28 day input [0.68908036 0.67214895 0.66697927 0.62447298 0.61115213 0.67272338\n",
            " 0.66900339 0.70434325 0.67507572 0.69441415 0.69299179 0.65639373\n",
            " 0.66738954 0.65776138 0.71536643 0.70705115 0.72521347 0.73046517\n",
            " 0.74485278 0.78259966 0.77543323 0.781615   0.7709747  0.7549186\n",
            " 0.73150459 0.75264836 0.74972159 0.77143974 0.77198682 0.75943181\n",
            " 0.78445972 0.80106282 0.78812498 0.79931228 0.81134751 0.81974485\n",
            " 0.82825155 0.84573004 0.85907823 0.8492312  0.8389465  0.84411623\n",
            " 0.83911062 0.85894142 0.85396327 0.87062114 0.86411115 0.86969115\n",
            " 0.86378293 0.86755754 0.86794053 0.8670926  0.87778757 0.88186311\n",
            " 0.88673191 0.87907315 0.90418303 0.90954416 0.93834669 0.96255396\n",
            " 0.91621825 0.92415056 0.93561141 0.96047512 0.95913486 0.95951784\n",
            " 0.95401989 0.97904772 1.         0.98230271 0.99537736 0.96471486\n",
            " 0.86433071 0.86698496 0.86733556 0.86535454 0.86127269 0.85544479\n",
            " 0.84825909 0.8400833  0.83123696 0.82197875 0.81250757 0.80296886\n",
            " 0.7934643  0.78406101 0.77479959 0.7657038  0.75678533 0.74804848\n",
            " 0.73949349 0.73111814 0.72292054 0.71489751 0.70704752 0.69936854\n",
            " 0.69185913 0.68451822 0.67734462 0.67033744]\n",
            "28 day output [[0.6634952]]\n",
            "29 day input [0.67214895 0.66697927 0.62447298 0.61115213 0.67272338 0.66900339\n",
            " 0.70434325 0.67507572 0.69441415 0.69299179 0.65639373 0.66738954\n",
            " 0.65776138 0.71536643 0.70705115 0.72521347 0.73046517 0.74485278\n",
            " 0.78259966 0.77543323 0.781615   0.7709747  0.7549186  0.73150459\n",
            " 0.75264836 0.74972159 0.77143974 0.77198682 0.75943181 0.78445972\n",
            " 0.80106282 0.78812498 0.79931228 0.81134751 0.81974485 0.82825155\n",
            " 0.84573004 0.85907823 0.8492312  0.8389465  0.84411623 0.83911062\n",
            " 0.85894142 0.85396327 0.87062114 0.86411115 0.86969115 0.86378293\n",
            " 0.86755754 0.86794053 0.8670926  0.87778757 0.88186311 0.88673191\n",
            " 0.87907315 0.90418303 0.90954416 0.93834669 0.96255396 0.91621825\n",
            " 0.92415056 0.93561141 0.96047512 0.95913486 0.95951784 0.95401989\n",
            " 0.97904772 1.         0.98230271 0.99537736 0.96471486 0.86433071\n",
            " 0.86698496 0.86733556 0.86535454 0.86127269 0.85544479 0.84825909\n",
            " 0.8400833  0.83123696 0.82197875 0.81250757 0.80296886 0.7934643\n",
            " 0.78406101 0.77479959 0.7657038  0.75678533 0.74804848 0.73949349\n",
            " 0.73111814 0.72292054 0.71489751 0.70704752 0.69936854 0.69185913\n",
            " 0.68451822 0.67734462 0.67033744 0.66349518]\n",
            "29 day output [[0.65681666]]\n",
            "[[0.8643307089805603], [0.8669849634170532], [0.8673355579376221], [0.8653545379638672], [0.8612726926803589], [0.8554447889328003], [0.8482590913772583], [0.8400833010673523], [0.8312369585037231], [0.821978747844696], [0.8125075697898865], [0.8029688596725464], [0.7934643030166626], [0.7840610146522522], [0.7747995853424072], [0.7657037973403931], [0.7567853331565857], [0.7480484843254089], [0.7394934892654419], [0.7311181426048279], [0.7229205369949341], [0.7148975133895874], [0.7070475220680237], [0.6993685364723206], [0.6918591260910034], [0.6845182180404663], [0.6773446202278137], [0.670337438583374], [0.6634951829910278], [0.6568166613578796]]\n"
          ],
          "name": "stdout"
        }
      ]
    },
    {
      "cell_type": "code",
      "metadata": {
        "id": "0xuVUoW2LaNi"
      },
      "source": [
        "new_day=np.arange(1,101)\n",
        "pred=np.arange(101,131)"
      ],
      "execution_count": null,
      "outputs": []
    },
    {
      "cell_type": "code",
      "metadata": {
        "colab": {
          "base_uri": "https://localhost:8080/"
        },
        "id": "0kJrCYjXUG3I",
        "outputId": "f301c331-3cb7-4755-f836-1dddba8421d5"
      },
      "source": [
        "len(df1)"
      ],
      "execution_count": null,
      "outputs": [
        {
          "output_type": "execute_result",
          "data": {
            "text/plain": [
              "4780"
            ]
          },
          "metadata": {
            "tags": []
          },
          "execution_count": 29
        }
      ]
    },
    {
      "cell_type": "code",
      "metadata": {
        "colab": {
          "base_uri": "https://localhost:8080/"
        },
        "id": "mjL-DoL4Gfad",
        "outputId": "27e63bfe-a5cb-4262-b43f-0ba3e1e7b19b"
      },
      "source": [
        "4780-100"
      ],
      "execution_count": null,
      "outputs": [
        {
          "output_type": "execute_result",
          "data": {
            "text/plain": [
              "4680"
            ]
          },
          "metadata": {
            "tags": []
          },
          "execution_count": 30
        }
      ]
    },
    {
      "cell_type": "code",
      "metadata": {
        "colab": {
          "base_uri": "https://localhost:8080/",
          "height": 283
        },
        "id": "4gPnPrSELZ9z",
        "outputId": "8e2c5655-ae73-4693-be51-9a80c0055724"
      },
      "source": [
        "plt.plot(new_day,scaler.inverse_transform(df1[4680:]))\n",
        "plt.plot(pred,scaler.inverse_transform(lst_output))"
      ],
      "execution_count": null,
      "outputs": [
        {
          "output_type": "execute_result",
          "data": {
            "text/plain": [
              "[<matplotlib.lines.Line2D at 0x7feb9dc954d0>]"
            ]
          },
          "metadata": {
            "tags": []
          },
          "execution_count": 31
        },
        {
          "output_type": "display_data",
          "data": {
            "image/png": "[encoded data removed]",
            "text/plain": [
              "<Figure size 432x288 with 1 Axes>"
            ]
          },
          "metadata": {
            "tags": [],
            "needs_background": "light"
          }
        }
      ]
    },
    {
      "cell_type": "code",
      "metadata": {
        "colab": {
          "base_uri": "https://localhost:8080/",
          "height": 283
        },
        "id": "jzWJZu1OLZtk",
        "outputId": "346b43f4-e0de-4e47-d781-6a47f24d96e5"
      },
      "source": [
        "df3=df1.tolist()\n",
        "df3.extend(lst_output)\n",
        "plt.plot(df3[4000:])"
      ],
      "execution_count": null,
      "outputs": [
        {
          "output_type": "execute_result",
          "data": {
            "text/plain": [
              "[<matplotlib.lines.Line2D at 0x7feb9da98690>]"
            ]
          },
          "metadata": {
            "tags": []
          },
          "execution_count": 34
        },
        {
          "output_type": "display_data",
          "data": {
            "image/png": "[encoded data removed]",
            "text/plain": [
              "<Figure size 432x288 with 1 Axes>"
            ]
          },
          "metadata": {
            "tags": [],
            "needs_background": "light"
          }
        }
      ]
    },
    {
      "cell_type": "code",
      "metadata": {
        "id": "hNItrE7yLZcf"
      },
      "source": [
        ""
      ],
      "execution_count": null,
      "outputs": []
    },
    {
      "cell_type": "code",
      "metadata": {
        "id": "Ykc_tLYoKYKV"
      },
      "source": [
        ""
      ],
      "execution_count": null,
      "outputs": []
    }
  ]
}